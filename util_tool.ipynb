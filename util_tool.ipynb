{
 "cells": [
  {
   "cell_type": "code",
   "execution_count": 12,
   "id": "afce7924-0b49-4965-9066-ed7c8ac60b03",
   "metadata": {},
   "outputs": [
    {
     "name": "stderr",
     "output_type": "stream",
     "text": [
      "Loading pipeline components...:   0%|                                                                                    | 0/7 [00:00<?, ?it/s]`text_config_dict` is provided which will be used to initialize `CLIPTextConfig`. The value `text_config[\"id2label\"]` will be overriden.\n",
      "`text_config_dict` is provided which will be used to initialize `CLIPTextConfig`. The value `text_config[\"bos_token_id\"]` will be overriden.\n",
      "`text_config_dict` is provided which will be used to initialize `CLIPTextConfig`. The value `text_config[\"eos_token_id\"]` will be overriden.\n",
      "Loading pipeline components...: 100%|████████████████████████████████████████████████████████████████████████████| 7/7 [00:01<00:00,  6.45it/s]\n"
     ]
    },
    {
     "name": "stdout",
     "output_type": "stream",
     "text": [
      "*** /home/gs/aigc/modelzoo/stable-diffusion-v1-5 saved\n"
     ]
    }
   ],
   "source": [
    "from diffusers import StableDiffusionControlNetPipeline, ControlNetModel, UniPCMultistepScheduler\n",
    "from controlnet_aux import OpenposeDetector\n",
    "from diffusers.utils import load_image\n",
    "import os\n",
    "import pickle\n",
    "\n",
    "model_pth = \"/home/gs/aigc/modelzoo\"\n",
    "model_name = {\n",
    "    \"openpose\": os.path.join(model_pth, \"openpose.pkl\"),\n",
    "    \"ctl_openpose\": os.path.join(model_pth, \"sd-controlnet-openpose\"),\n",
    "    \"ctl_canny\": os.path.join(model_pth, \"sd-controlnet-canny\"),\n",
    "    \"sd\": os.path.join(model_pth, \"stable-diffusion-v1-5\"),\n",
    "}\n",
    "\n",
    "if os.path.exists(model_name[\"openpose\"]):\n",
    "    with open(model_name[\"openpose\"], \"rb\") as fo:\n",
    "        openpose = pickle.load(fo)\n",
    "else:\n",
    "    openpose = OpenposeDetector.from_pretrained(\"lllyasviel/ControlNet\")\n",
    "    with open(model_name[\"openpose\"], \"wb\") as fo:\n",
    "        pickle.dump(openpose, fo)\n",
    "ctl_openpose = ControlNetModel.from_pretrained(\"lllyasviel/sd-controlnet-openpose\")\n",
    "# ctl_openpose.save_pretrained(model_name[\"ctl_openpose\"])\n",
    "\n",
    "ctl_canny = ControlNetModel.from_pretrained(\"lllyasviel/sd-controlnet-canny\")\n",
    "# ctl_canny.save_pretrained(model_name[\"ctl_canny\"])\n",
    "controlnet = [\n",
    "    ctl_openpose,\n",
    "    ctl_canny\n",
    "]\n",
    "pipe = StableDiffusionControlNetPipeline.from_pretrained(\"runwayml/stable-diffusion-v1-5\", controlnet=controlnet)\n",
    "pipe.save_pretrained(model_name[\"sd\"])\n",
    "print(f\"*** {model_name['sd']} saved\")\n",
    "\n"
   ]
  },
  {
   "cell_type": "code",
   "execution_count": 10,
   "id": "5f592526-2d28-4b7d-9bce-60e8523ca54d",
   "metadata": {},
   "outputs": [
    {
     "data": {
      "text/plain": [
       "'0.20.0.dev0'"
      ]
     },
     "execution_count": 10,
     "metadata": {},
     "output_type": "execute_result"
    }
   ],
   "source": [
    "import diffusers\n",
    "diffusers.__version__"
   ]
  },
  {
   "cell_type": "code",
   "execution_count": null,
   "id": "1c5e9cab-288e-4aa8-88ea-490b607e7ccc",
   "metadata": {
    "scrolled": true
   },
   "outputs": [],
   "source": [
    "from diffusers import StableDiffusionControlNetPipeline, ControlNetModel, UniPCMultistepScheduler\n",
    "from controlnet_aux import OpenposeDetector\n",
    "from diffusers.utils import load_image\n",
    "from PIL import Image\n",
    "import cv2\n",
    "import numpy as np\n",
    "from controlnet_aux import OpenposeDetector\n",
    "import torch\n",
    "\n",
    "def canny_extractor(img_file):\n",
    "    canny_image = load_image(img_file)\n",
    "    canny_image = np.array(canny_image)\n",
    "    \n",
    "    low_threshold = 100\n",
    "    high_threshold = 200\n",
    "    \n",
    "    canny_image = cv2.Canny(canny_image, low_threshold, high_threshold)\n",
    "    \n",
    "    # zero out middle columns of image where pose will be overlayed\n",
    "    zero_start = canny_image.shape[1] // 4\n",
    "    zero_end = zero_start + canny_image.shape[1] // 2\n",
    "    canny_image[:, zero_start:zero_end] = 0\n",
    "    \n",
    "    canny_image = canny_image[:, :, None]\n",
    "    canny_image = np.concatenate([canny_image, canny_image, canny_image], axis=2)\n",
    "    canny_image = Image.fromarray(canny_image)\n",
    "\n",
    "    return canny_image\n",
    "\n",
    "def openpose_extractor(img_file, openpose_model):\n",
    "    if os.path.exists(openpose_model):\n",
    "        with open(openpose_model, \"rb\") as fo:\n",
    "            openpose = pickle.load(fo)\n",
    "    else:\n",
    "        openpose = OpenposeDetector.from_pretrained(\"lllyasviel/ControlNet\")\n",
    "        with open(openpose_model, \"wb\") as fo:\n",
    "            pickle.dump(openpose, fo)\n",
    "    i_image = load_image(img_file)\n",
    "    openpose_image = openpose(i_image)\n",
    "\n",
    "    return openpose_image\n",
    "\n",
    "\n",
    "model_pth = \"/home/gs/aigc/modelzoo\"\n",
    "model_name = {\n",
    "    \"openpose\": os.path.join(model_pth, \"controlnet/openpose.pkl\"),\n",
    "    \"ctl_openpose\": os.path.join(model_pth, \"controlnet/sd-controlnet-openpose\"),\n",
    "    \"ctl_canny\": os.path.join(model_pth, \"controlnet/sd-controlnet-canny\"),\n",
    "    \"sd\": os.path.join(model_pth, \"stable-diffusion-v1-5\"),\n",
    "}\n",
    "\n",
    "is_gpu = torch.cuda.is_available()\n",
    "if is_gpu:\n",
    "    device = \"cuda\"\n",
    "    md_dtype = torch.float16\n",
    "else:\n",
    "    device = \"cpu\"\n",
    "    md_dtype = torch.float32\n",
    "\n",
    "canny_image = canny_extractor(\n",
    "    \"https://huggingface.co/datasets/huggingface/documentation-images/resolve/main/diffusers/landscape.png\"\n",
    ")\n",
    "\n",
    "openpose_image = openpose_extractor(\n",
    "    \"https://huggingface.co/datasets/huggingface/documentation-images/resolve/main/diffusers/person.png\",\n",
    "    model_name[\"openpose\"]\n",
    ")\n",
    "\n",
    "controlnet = [\n",
    "    ControlNetModel.from_pretrained(model_name[\"ctl_openpose\"], torch_dtype=md_dtype),\n",
    "    ControlNetModel.from_pretrained(model_name[\"ctl_canny\"], torch_dtype=md_dtype),\n",
    "]\n",
    "\n",
    "pipe = StableDiffusionControlNetPipeline.from_pretrained(\n",
    "    model_name[\"sd\"], controlnet=controlnet, torch_dtype=md_dtype\n",
    ")\n",
    "pipe.scheduler = UniPCMultistepScheduler.from_config(pipe.scheduler.config)\n",
    "\n",
    "if is_gpu:\n",
    "    pipe.enable_xformers_memory_efficient_attention()\n",
    "    pipe.enable_model_cpu_offload()\n",
    "\n",
    "prompt = \"a giant standing in a fantasy landscape, best quality\"\n",
    "negative_prompt = \"monochrome, lowres, bad anatomy, worst quality, low quality\"\n",
    "\n",
    "generator = torch.Generator(device=\"cpu\").manual_seed(1)\n",
    "\n",
    "images = [openpose_image, canny_image]\n",
    "\n",
    "image = pipe(\n",
    "    prompt,\n",
    "    images,\n",
    "    num_inference_steps=2,\n",
    "    generator=generator,\n",
    "    negative_prompt=negative_prompt,\n",
    "    controlnet_conditioning_scale=[1.0, 0.8],\n",
    ").images[0]\n",
    "\n",
    "image.save(\"./multi_controlnet_output.png\")\n"
   ]
  }
 ],
 "metadata": {
  "kernelspec": {
   "display_name": "Python 3 (ipykernel)",
   "language": "python",
   "name": "python3"
  },
  "language_info": {
   "codemirror_mode": {
    "name": "ipython",
    "version": 3
   },
   "file_extension": ".py",
   "mimetype": "text/x-python",
   "name": "python",
   "nbconvert_exporter": "python",
   "pygments_lexer": "ipython3",
   "version": "3.10.12"
  }
 },
 "nbformat": 4,
 "nbformat_minor": 5
}
